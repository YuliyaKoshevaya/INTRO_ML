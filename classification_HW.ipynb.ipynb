{
  "nbformat": 4,
  "nbformat_minor": 0,
  "metadata": {
    "kernelspec": {
      "display_name": "Python 3",
      "language": "python",
      "name": "python3"
    },
    "language_info": {
      "codemirror_mode": {
        "name": "ipython",
        "version": 3
      },
      "file_extension": ".py",
      "mimetype": "text/x-python",
      "name": "python",
      "nbconvert_exporter": "python",
      "pygments_lexer": "ipython3",
      "version": "3.8.5"
    },
    "colab": {
      "name": "classification.ipynb.txt",
      "provenance": []
    }
  },
  "cells": [
    {
      "cell_type": "markdown",
      "metadata": {
        "id": "bWxJ3Pnzt1NM"
      },
      "source": [
        "# Classification. Linear models and KNN"
      ]
    },
    {
      "cell_type": "code",
      "metadata": {
        "id": "0T4ZEpRYt1NQ"
      },
      "source": [
        "import os\n",
        "import numpy as np\n",
        "import pandas as pd\n",
        "import seaborn as sns\n",
        "import matplotlib.pyplot as plt"
      ],
      "execution_count": 1,
      "outputs": []
    },
    {
      "cell_type": "code",
      "metadata": {
        "id": "mUu1B-uWt1NR"
      },
      "source": [
        "from sklearn.pipeline import Pipeline\n",
        "from sklearn.compose import ColumnTransformer\n",
        "from sklearn.model_selection import train_test_split, cross_validate\n",
        "from sklearn.metrics import plot_confusion_matrix, accuracy_score\n",
        "from sklearn.linear_model import SGDClassifier\n",
        "from sklearn.preprocessing import StandardScaler, OneHotEncoder"
      ],
      "execution_count": 2,
      "outputs": []
    },
    {
      "cell_type": "markdown",
      "metadata": {
        "id": "PPPeUE4Nt1NR"
      },
      "source": [
        "## Part 1: Titanic survival prediction"
      ]
    },
    {
      "cell_type": "markdown",
      "metadata": {
        "id": "OMo4BWY9t1NS"
      },
      "source": [
        "### Dataset\n",
        "\n",
        "Read the description here: https://www.kaggle.com/c/titanic/data. Download the dataset and place it in the *data/titanic/* folder in your working directory.\n",
        "You will use train.csv for model training and validation. The test set is used for model testing: once the model is trained, you can predict whether a passenger survived or not for each passenger in the test set, and submit the predictions: https://www.kaggle.com/c/titanic/overview/evaluation.  \n"
      ]
    },
    {
      "cell_type": "code",
      "metadata": {
        "id": "R5ZMhP10t1NS"
      },
      "source": [
        "PATH = \"/content/data\""
      ],
      "execution_count": 3,
      "outputs": []
    },
    {
      "cell_type": "code",
      "metadata": {
        "id": "YyiN6HjGt1NS"
      },
      "source": [
        "data = pd.read_csv(os.path.join(PATH, 'titanic', 'train.csv')).set_index('PassengerId')"
      ],
      "execution_count": 4,
      "outputs": []
    },
    {
      "cell_type": "code",
      "metadata": {
        "scrolled": true,
        "colab": {
          "base_uri": "https://localhost:8080/",
          "height": 276
        },
        "id": "aXF4VcU8t1NT",
        "outputId": "892f55d7-0e0a-4b35-93ac-1ddb472957bc"
      },
      "source": [
        "data.head()"
      ],
      "execution_count": 5,
      "outputs": [
        {
          "output_type": "execute_result",
          "data": {
            "text/html": [
              "<div>\n",
              "<style scoped>\n",
              "    .dataframe tbody tr th:only-of-type {\n",
              "        vertical-align: middle;\n",
              "    }\n",
              "\n",
              "    .dataframe tbody tr th {\n",
              "        vertical-align: top;\n",
              "    }\n",
              "\n",
              "    .dataframe thead th {\n",
              "        text-align: right;\n",
              "    }\n",
              "</style>\n",
              "<table border=\"1\" class=\"dataframe\">\n",
              "  <thead>\n",
              "    <tr style=\"text-align: right;\">\n",
              "      <th></th>\n",
              "      <th>Survived</th>\n",
              "      <th>Pclass</th>\n",
              "      <th>Name</th>\n",
              "      <th>Sex</th>\n",
              "      <th>Age</th>\n",
              "      <th>SibSp</th>\n",
              "      <th>Parch</th>\n",
              "      <th>Ticket</th>\n",
              "      <th>Fare</th>\n",
              "      <th>Cabin</th>\n",
              "      <th>Embarked</th>\n",
              "    </tr>\n",
              "    <tr>\n",
              "      <th>PassengerId</th>\n",
              "      <th></th>\n",
              "      <th></th>\n",
              "      <th></th>\n",
              "      <th></th>\n",
              "      <th></th>\n",
              "      <th></th>\n",
              "      <th></th>\n",
              "      <th></th>\n",
              "      <th></th>\n",
              "      <th></th>\n",
              "      <th></th>\n",
              "    </tr>\n",
              "  </thead>\n",
              "  <tbody>\n",
              "    <tr>\n",
              "      <th>1</th>\n",
              "      <td>0</td>\n",
              "      <td>3</td>\n",
              "      <td>Braund, Mr. Owen Harris</td>\n",
              "      <td>male</td>\n",
              "      <td>22.0</td>\n",
              "      <td>1</td>\n",
              "      <td>0</td>\n",
              "      <td>A/5 21171</td>\n",
              "      <td>7.2500</td>\n",
              "      <td>NaN</td>\n",
              "      <td>S</td>\n",
              "    </tr>\n",
              "    <tr>\n",
              "      <th>2</th>\n",
              "      <td>1</td>\n",
              "      <td>1</td>\n",
              "      <td>Cumings, Mrs. John Bradley (Florence Briggs Th...</td>\n",
              "      <td>female</td>\n",
              "      <td>38.0</td>\n",
              "      <td>1</td>\n",
              "      <td>0</td>\n",
              "      <td>PC 17599</td>\n",
              "      <td>71.2833</td>\n",
              "      <td>C85</td>\n",
              "      <td>C</td>\n",
              "    </tr>\n",
              "    <tr>\n",
              "      <th>3</th>\n",
              "      <td>1</td>\n",
              "      <td>3</td>\n",
              "      <td>Heikkinen, Miss. Laina</td>\n",
              "      <td>female</td>\n",
              "      <td>26.0</td>\n",
              "      <td>0</td>\n",
              "      <td>0</td>\n",
              "      <td>STON/O2. 3101282</td>\n",
              "      <td>7.9250</td>\n",
              "      <td>NaN</td>\n",
              "      <td>S</td>\n",
              "    </tr>\n",
              "    <tr>\n",
              "      <th>4</th>\n",
              "      <td>1</td>\n",
              "      <td>1</td>\n",
              "      <td>Futrelle, Mrs. Jacques Heath (Lily May Peel)</td>\n",
              "      <td>female</td>\n",
              "      <td>35.0</td>\n",
              "      <td>1</td>\n",
              "      <td>0</td>\n",
              "      <td>113803</td>\n",
              "      <td>53.1000</td>\n",
              "      <td>C123</td>\n",
              "      <td>S</td>\n",
              "    </tr>\n",
              "    <tr>\n",
              "      <th>5</th>\n",
              "      <td>0</td>\n",
              "      <td>3</td>\n",
              "      <td>Allen, Mr. William Henry</td>\n",
              "      <td>male</td>\n",
              "      <td>35.0</td>\n",
              "      <td>0</td>\n",
              "      <td>0</td>\n",
              "      <td>373450</td>\n",
              "      <td>8.0500</td>\n",
              "      <td>NaN</td>\n",
              "      <td>S</td>\n",
              "    </tr>\n",
              "  </tbody>\n",
              "</table>\n",
              "</div>"
            ],
            "text/plain": [
              "             Survived  Pclass  ... Cabin Embarked\n",
              "PassengerId                    ...               \n",
              "1                   0       3  ...   NaN        S\n",
              "2                   1       1  ...   C85        C\n",
              "3                   1       3  ...   NaN        S\n",
              "4                   1       1  ...  C123        S\n",
              "5                   0       3  ...   NaN        S\n",
              "\n",
              "[5 rows x 11 columns]"
            ]
          },
          "metadata": {
            "tags": []
          },
          "execution_count": 5
        }
      ]
    },
    {
      "cell_type": "markdown",
      "metadata": {
        "id": "wzOQlVeFt1NT"
      },
      "source": [
        "### EDA"
      ]
    },
    {
      "cell_type": "markdown",
      "metadata": {
        "id": "G0GATuurt1NU"
      },
      "source": [
        "**(0.5 points)** How many females and males are there in the dataset? What about the survived passengers? Is there any relationship between the gender and the survival?"
      ]
    },
    {
      "cell_type": "code",
      "metadata": {
        "colab": {
          "base_uri": "https://localhost:8080/"
        },
        "id": "SV48ImDOt1NU",
        "outputId": "7b6ff4e2-bf78-4453-faf1-dddeb1ed659d"
      },
      "source": [
        "data['Sex'].value_counts()"
      ],
      "execution_count": 6,
      "outputs": [
        {
          "output_type": "execute_result",
          "data": {
            "text/plain": [
              "male      577\n",
              "female    314\n",
              "Name: Sex, dtype: int64"
            ]
          },
          "metadata": {
            "tags": []
          },
          "execution_count": 6
        }
      ]
    },
    {
      "cell_type": "code",
      "metadata": {
        "colab": {
          "base_uri": "https://localhost:8080/"
        },
        "id": "JtIvQTLPsJtY",
        "outputId": "6d91efd9-4d7e-4b25-aaaa-1224f2bbf19f"
      },
      "source": [
        "data['Survived'].value_counts()"
      ],
      "execution_count": 7,
      "outputs": [
        {
          "output_type": "execute_result",
          "data": {
            "text/plain": [
              "0    549\n",
              "1    342\n",
              "Name: Survived, dtype: int64"
            ]
          },
          "metadata": {
            "tags": []
          },
          "execution_count": 7
        }
      ]
    },
    {
      "cell_type": "code",
      "metadata": {
        "colab": {
          "base_uri": "https://localhost:8080/",
          "height": 137
        },
        "id": "WTLo7VExtJbt",
        "outputId": "18ea265c-5ffb-4a0b-fcba-f7a2582a6d1f"
      },
      "source": [
        "pd.crosstab(data['Sex'], data['Survived'])"
      ],
      "execution_count": 8,
      "outputs": [
        {
          "output_type": "execute_result",
          "data": {
            "text/html": [
              "<div>\n",
              "<style scoped>\n",
              "    .dataframe tbody tr th:only-of-type {\n",
              "        vertical-align: middle;\n",
              "    }\n",
              "\n",
              "    .dataframe tbody tr th {\n",
              "        vertical-align: top;\n",
              "    }\n",
              "\n",
              "    .dataframe thead th {\n",
              "        text-align: right;\n",
              "    }\n",
              "</style>\n",
              "<table border=\"1\" class=\"dataframe\">\n",
              "  <thead>\n",
              "    <tr style=\"text-align: right;\">\n",
              "      <th>Survived</th>\n",
              "      <th>0</th>\n",
              "      <th>1</th>\n",
              "    </tr>\n",
              "    <tr>\n",
              "      <th>Sex</th>\n",
              "      <th></th>\n",
              "      <th></th>\n",
              "    </tr>\n",
              "  </thead>\n",
              "  <tbody>\n",
              "    <tr>\n",
              "      <th>female</th>\n",
              "      <td>81</td>\n",
              "      <td>233</td>\n",
              "    </tr>\n",
              "    <tr>\n",
              "      <th>male</th>\n",
              "      <td>468</td>\n",
              "      <td>109</td>\n",
              "    </tr>\n",
              "  </tbody>\n",
              "</table>\n",
              "</div>"
            ],
            "text/plain": [
              "Survived    0    1\n",
              "Sex               \n",
              "female     81  233\n",
              "male      468  109"
            ]
          },
          "metadata": {
            "tags": []
          },
          "execution_count": 8
        }
      ]
    },
    {
      "cell_type": "markdown",
      "metadata": {
        "id": "2xpz-PtLt1NU"
      },
      "source": [
        "More women survived than men."
      ]
    },
    {
      "cell_type": "markdown",
      "metadata": {
        "id": "Yo4wI9PSt1NU"
      },
      "source": [
        "**(0.5 points)** Plot age distribution of the passengers. What is the average and the median age of survived and deceased passengers? Do age distributions differ for survived and deceased passengers? Why?"
      ]
    },
    {
      "cell_type": "code",
      "metadata": {
        "colab": {
          "base_uri": "https://localhost:8080/",
          "height": 349
        },
        "id": "eyzUNiqMt1NU",
        "outputId": "46b88ac2-be82-4c76-c700-df1e2f20c1a8"
      },
      "source": [
        "sns.distplot(data.Age)"
      ],
      "execution_count": 9,
      "outputs": [
        {
          "output_type": "stream",
          "text": [
            "/usr/local/lib/python3.7/dist-packages/seaborn/distributions.py:2557: FutureWarning: `distplot` is a deprecated function and will be removed in a future version. Please adapt your code to use either `displot` (a figure-level function with similar flexibility) or `histplot` (an axes-level function for histograms).\n",
            "  warnings.warn(msg, FutureWarning)\n"
          ],
          "name": "stderr"
        },
        {
          "output_type": "execute_result",
          "data": {
            "text/plain": [
              "<matplotlib.axes._subplots.AxesSubplot at 0x7fdc46fdd810>"
            ]
          },
          "metadata": {
            "tags": []
          },
          "execution_count": 9
        },
        {
          "output_type": "display_data",
          "data": {
            "image/png": "[encoded data removed]",
            "text/plain": [
              "<Figure size 432x288 with 1 Axes>"
            ]
          },
          "metadata": {
            "tags": [],
            "needs_background": "light"
          }
        }
      ]
    },
    {
      "cell_type": "code",
      "metadata": {
        "colab": {
          "base_uri": "https://localhost:8080/",
          "height": 349
        },
        "id": "pQeJO2LF4fb8",
        "outputId": "b9f0833f-6c7f-4376-ebd9-d5aa90ae26a0"
      },
      "source": [
        "sns.distplot(data [((data.Survived == 0) )]['Age'])"
      ],
      "execution_count": 10,
      "outputs": [
        {
          "output_type": "stream",
          "text": [
            "/usr/local/lib/python3.7/dist-packages/seaborn/distributions.py:2557: FutureWarning: `distplot` is a deprecated function and will be removed in a future version. Please adapt your code to use either `displot` (a figure-level function with similar flexibility) or `histplot` (an axes-level function for histograms).\n",
            "  warnings.warn(msg, FutureWarning)\n"
          ],
          "name": "stderr"
        },
        {
          "output_type": "execute_result",
          "data": {
            "text/plain": [
              "<matplotlib.axes._subplots.AxesSubplot at 0x7fdc46f82ed0>"
            ]
          },
          "metadata": {
            "tags": []
          },
          "execution_count": 10
        },
        {
          "output_type": "display_data",
          "data": {
            "image/png": "[encoded data removed]",
            "text/plain": [
              "<Figure size 432x288 with 1 Axes>"
            ]
          },
          "metadata": {
            "tags": [],
            "needs_background": "light"
          }
        }
      ]
    },
    {
      "cell_type": "code",
      "metadata": {
        "colab": {
          "base_uri": "https://localhost:8080/",
          "height": 349
        },
        "id": "leaL8NXQ4oEw",
        "outputId": "00ccc333-4bc7-49ce-c87c-dcb2a564e32b"
      },
      "source": [
        "sns.distplot(data [((data.Survived == 1) )]['Age'])"
      ],
      "execution_count": 11,
      "outputs": [
        {
          "output_type": "stream",
          "text": [
            "/usr/local/lib/python3.7/dist-packages/seaborn/distributions.py:2557: FutureWarning: `distplot` is a deprecated function and will be removed in a future version. Please adapt your code to use either `displot` (a figure-level function with similar flexibility) or `histplot` (an axes-level function for histograms).\n",
            "  warnings.warn(msg, FutureWarning)\n"
          ],
          "name": "stderr"
        },
        {
          "output_type": "execute_result",
          "data": {
            "text/plain": [
              "<matplotlib.axes._subplots.AxesSubplot at 0x7fdc46f3e050>"
            ]
          },
          "metadata": {
            "tags": []
          },
          "execution_count": 11
        },
        {
          "output_type": "display_data",
          "data": {
            "image/png": "[encoded data removed]",
            "text/plain": [
              "<Figure size 432x288 with 1 Axes>"
            ]
          },
          "metadata": {
            "tags": [],
            "needs_background": "light"
          }
        }
      ]
    },
    {
      "cell_type": "code",
      "metadata": {
        "colab": {
          "base_uri": "https://localhost:8080/"
        },
        "id": "-rjx6nnvzK_f",
        "outputId": "89720e4b-cf37-44aa-e1d2-52110c8f4414"
      },
      "source": [
        "print('Median Age, deceased passengers', data [((data.Survived == 0) )]['Age'].median())\r\n",
        "print('Median Age, survived passengers', data [((data.Survived == 1) )]['Age'].median())\r\n",
        "print('Mean Age, deceased passengers', data [((data.Survived == 0) )]['Age'].mean())\r\n",
        "print('Mean Age, survived passengers', data [((data.Survived == 1) )]['Age'].mean())"
      ],
      "execution_count": 12,
      "outputs": [
        {
          "output_type": "stream",
          "text": [
            "Median Age, deceased passengers 28.0\n",
            "Median Age, survived passengers 28.0\n",
            "Mean Age, deceased passengers 30.62617924528302\n",
            "Mean Age, survived passengers 28.343689655172415\n"
          ],
          "name": "stdout"
        }
      ]
    },
    {
      "cell_type": "code",
      "metadata": {
        "colab": {
          "base_uri": "https://localhost:8080/",
          "height": 166
        },
        "id": "HFlQF_9pyQL-",
        "outputId": "7a99ad51-13f7-4f73-8f6b-b7d59c12952a"
      },
      "source": [
        "columns_to_show = ['Age']\r\n",
        "\r\n",
        "data.groupby(['Survived'])[columns_to_show].describe(percentiles=[])"
      ],
      "execution_count": 13,
      "outputs": [
        {
          "output_type": "execute_result",
          "data": {
            "text/html": [
              "<div>\n",
              "<style scoped>\n",
              "    .dataframe tbody tr th:only-of-type {\n",
              "        vertical-align: middle;\n",
              "    }\n",
              "\n",
              "    .dataframe tbody tr th {\n",
              "        vertical-align: top;\n",
              "    }\n",
              "\n",
              "    .dataframe thead tr th {\n",
              "        text-align: left;\n",
              "    }\n",
              "\n",
              "    .dataframe thead tr:last-of-type th {\n",
              "        text-align: right;\n",
              "    }\n",
              "</style>\n",
              "<table border=\"1\" class=\"dataframe\">\n",
              "  <thead>\n",
              "    <tr>\n",
              "      <th></th>\n",
              "      <th colspan=\"6\" halign=\"left\">Age</th>\n",
              "    </tr>\n",
              "    <tr>\n",
              "      <th></th>\n",
              "      <th>count</th>\n",
              "      <th>mean</th>\n",
              "      <th>std</th>\n",
              "      <th>min</th>\n",
              "      <th>50%</th>\n",
              "      <th>max</th>\n",
              "    </tr>\n",
              "    <tr>\n",
              "      <th>Survived</th>\n",
              "      <th></th>\n",
              "      <th></th>\n",
              "      <th></th>\n",
              "      <th></th>\n",
              "      <th></th>\n",
              "      <th></th>\n",
              "    </tr>\n",
              "  </thead>\n",
              "  <tbody>\n",
              "    <tr>\n",
              "      <th>0</th>\n",
              "      <td>424.0</td>\n",
              "      <td>30.626179</td>\n",
              "      <td>14.172110</td>\n",
              "      <td>1.00</td>\n",
              "      <td>28.0</td>\n",
              "      <td>74.0</td>\n",
              "    </tr>\n",
              "    <tr>\n",
              "      <th>1</th>\n",
              "      <td>290.0</td>\n",
              "      <td>28.343690</td>\n",
              "      <td>14.950952</td>\n",
              "      <td>0.42</td>\n",
              "      <td>28.0</td>\n",
              "      <td>80.0</td>\n",
              "    </tr>\n",
              "  </tbody>\n",
              "</table>\n",
              "</div>"
            ],
            "text/plain": [
              "            Age                                        \n",
              "          count       mean        std   min   50%   max\n",
              "Survived                                               \n",
              "0         424.0  30.626179  14.172110  1.00  28.0  74.0\n",
              "1         290.0  28.343690  14.950952  0.42  28.0  80.0"
            ]
          },
          "metadata": {
            "tags": []
          },
          "execution_count": 13
        }
      ]
    },
    {
      "cell_type": "markdown",
      "metadata": {
        "id": "XnLXpYjBt1NV"
      },
      "source": [
        "The majority of passengers were about 28 years old therefore  age distributions differ insignificantly for survived and deceased passengers "
      ]
    },
    {
      "cell_type": "markdown",
      "metadata": {
        "id": "zFqZr9kvt1NV"
      },
      "source": [
        "**(1 point)** Explore \"passenger class\" and \"embarked\" features. What class was \"the safest\"? Is there any relationship between the embarkation port and the survival? Provide the corresponding visualizations."
      ]
    },
    {
      "cell_type": "code",
      "metadata": {
        "colab": {
          "base_uri": "https://localhost:8080/",
          "height": 166
        },
        "id": "AsUSg6E2t1NV",
        "outputId": "44227007-97c4-4f90-bb96-6393c453da33"
      },
      "source": [
        "pd.crosstab(data['Pclass'], data['Survived'])"
      ],
      "execution_count": 14,
      "outputs": [
        {
          "output_type": "execute_result",
          "data": {
            "text/html": [
              "<div>\n",
              "<style scoped>\n",
              "    .dataframe tbody tr th:only-of-type {\n",
              "        vertical-align: middle;\n",
              "    }\n",
              "\n",
              "    .dataframe tbody tr th {\n",
              "        vertical-align: top;\n",
              "    }\n",
              "\n",
              "    .dataframe thead th {\n",
              "        text-align: right;\n",
              "    }\n",
              "</style>\n",
              "<table border=\"1\" class=\"dataframe\">\n",
              "  <thead>\n",
              "    <tr style=\"text-align: right;\">\n",
              "      <th>Survived</th>\n",
              "      <th>0</th>\n",
              "      <th>1</th>\n",
              "    </tr>\n",
              "    <tr>\n",
              "      <th>Pclass</th>\n",
              "      <th></th>\n",
              "      <th></th>\n",
              "    </tr>\n",
              "  </thead>\n",
              "  <tbody>\n",
              "    <tr>\n",
              "      <th>1</th>\n",
              "      <td>80</td>\n",
              "      <td>136</td>\n",
              "    </tr>\n",
              "    <tr>\n",
              "      <th>2</th>\n",
              "      <td>97</td>\n",
              "      <td>87</td>\n",
              "    </tr>\n",
              "    <tr>\n",
              "      <th>3</th>\n",
              "      <td>372</td>\n",
              "      <td>119</td>\n",
              "    </tr>\n",
              "  </tbody>\n",
              "</table>\n",
              "</div>"
            ],
            "text/plain": [
              "Survived    0    1\n",
              "Pclass            \n",
              "1          80  136\n",
              "2          97   87\n",
              "3         372  119"
            ]
          },
          "metadata": {
            "tags": []
          },
          "execution_count": 14
        }
      ]
    },
    {
      "cell_type": "code",
      "metadata": {
        "colab": {
          "base_uri": "https://localhost:8080/",
          "height": 387
        },
        "id": "SWjvyQ7O5NBT",
        "outputId": "6dac9673-cec9-422a-cdbf-e27ce1156003"
      },
      "source": [
        "plt.figure(figsize = (10, 5))\r\n",
        "\r\n",
        "plt.subplot(1, 2, 1)\r\n",
        "sns.countplot('Pclass', data = data, hue = \"Survived\")\r\n",
        "plt.show()"
      ],
      "execution_count": 15,
      "outputs": [
        {
          "output_type": "stream",
          "text": [
            "/usr/local/lib/python3.7/dist-packages/seaborn/_decorators.py:43: FutureWarning: Pass the following variable as a keyword arg: x. From version 0.12, the only valid positional argument will be `data`, and passing other arguments without an explicit keyword will result in an error or misinterpretation.\n",
            "  FutureWarning\n"
          ],
          "name": "stderr"
        },
        {
          "output_type": "display_data",
          "data": {
            "image/png": "[encoded data removed]",
            "text/plain": [
              "<Figure size 720x360 with 1 Axes>"
            ]
          },
          "metadata": {
            "tags": [],
            "needs_background": "light"
          }
        }
      ]
    },
    {
      "cell_type": "code",
      "metadata": {
        "colab": {
          "base_uri": "https://localhost:8080/",
          "height": 166
        },
        "id": "8FYfy5Oy9Lt3",
        "outputId": "6689c04a-6281-427d-cf29-abbc03a3d928"
      },
      "source": [
        "pd.crosstab(data['Embarked'], data['Survived'])"
      ],
      "execution_count": 16,
      "outputs": [
        {
          "output_type": "execute_result",
          "data": {
            "text/html": [
              "<div>\n",
              "<style scoped>\n",
              "    .dataframe tbody tr th:only-of-type {\n",
              "        vertical-align: middle;\n",
              "    }\n",
              "\n",
              "    .dataframe tbody tr th {\n",
              "        vertical-align: top;\n",
              "    }\n",
              "\n",
              "    .dataframe thead th {\n",
              "        text-align: right;\n",
              "    }\n",
              "</style>\n",
              "<table border=\"1\" class=\"dataframe\">\n",
              "  <thead>\n",
              "    <tr style=\"text-align: right;\">\n",
              "      <th>Survived</th>\n",
              "      <th>0</th>\n",
              "      <th>1</th>\n",
              "    </tr>\n",
              "    <tr>\n",
              "      <th>Embarked</th>\n",
              "      <th></th>\n",
              "      <th></th>\n",
              "    </tr>\n",
              "  </thead>\n",
              "  <tbody>\n",
              "    <tr>\n",
              "      <th>C</th>\n",
              "      <td>75</td>\n",
              "      <td>93</td>\n",
              "    </tr>\n",
              "    <tr>\n",
              "      <th>Q</th>\n",
              "      <td>47</td>\n",
              "      <td>30</td>\n",
              "    </tr>\n",
              "    <tr>\n",
              "      <th>S</th>\n",
              "      <td>427</td>\n",
              "      <td>217</td>\n",
              "    </tr>\n",
              "  </tbody>\n",
              "</table>\n",
              "</div>"
            ],
            "text/plain": [
              "Survived    0    1\n",
              "Embarked          \n",
              "C          75   93\n",
              "Q          47   30\n",
              "S         427  217"
            ]
          },
          "metadata": {
            "tags": []
          },
          "execution_count": 16
        }
      ]
    },
    {
      "cell_type": "code",
      "metadata": {
        "colab": {
          "base_uri": "https://localhost:8080/",
          "height": 387
        },
        "id": "3WXsrtCl144u",
        "outputId": "cd6d6ed0-5d63-4bd9-9d60-a3ad819057e9"
      },
      "source": [
        "plt.figure(figsize = (10, 5))\r\n",
        "\r\n",
        "plt.subplot(1, 2, 1)\r\n",
        "sns.countplot('Embarked', data = data, hue = \"Survived\")\r\n",
        "plt.show()"
      ],
      "execution_count": 17,
      "outputs": [
        {
          "output_type": "stream",
          "text": [
            "/usr/local/lib/python3.7/dist-packages/seaborn/_decorators.py:43: FutureWarning: Pass the following variable as a keyword arg: x. From version 0.12, the only valid positional argument will be `data`, and passing other arguments without an explicit keyword will result in an error or misinterpretation.\n",
            "  FutureWarning\n"
          ],
          "name": "stderr"
        },
        {
          "output_type": "display_data",
          "data": {
            "image/png": "[encoded data removed]",
            "text/plain": [
              "<Figure size 720x360 with 1 Axes>"
            ]
          },
          "metadata": {
            "tags": [],
            "needs_background": "light"
          }
        }
      ]
    },
    {
      "cell_type": "code",
      "metadata": {
        "colab": {
          "base_uri": "https://localhost:8080/",
          "height": 269
        },
        "id": "mvf1aQ0_4wFq",
        "outputId": "05187370-b16e-4669-db46-deeea041252b"
      },
      "source": [
        "list = [\"Embarked\", \"Pclass\",  \"Survived\"]\r\n",
        "sns.heatmap(data[list].corr(), annot = True, fmt = \".2f\")\r\n",
        "plt.show()"
      ],
      "execution_count": 18,
      "outputs": [
        {
          "output_type": "display_data",
          "data": {
            "image/png": "[encoded data removed]",
            "text/plain": [
              "<Figure size 432x288 with 2 Axes>"
            ]
          },
          "metadata": {
            "tags": [],
            "needs_background": "light"
          }
        }
      ]
    },
    {
      "cell_type": "markdown",
      "metadata": {
        "id": "eW7ooPcIt1NV"
      },
      "source": [
        "\r\n",
        "The first class was \"the safest\".\r\n",
        "The embarkation port has slight correlation with passengers survival. \r\n"
      ]
    },
    {
      "cell_type": "markdown",
      "metadata": {
        "id": "WKXyX9Mrt1NV"
      },
      "source": [
        "### Modelling"
      ]
    },
    {
      "cell_type": "markdown",
      "metadata": {
        "id": "dD_c0edat1NW"
      },
      "source": [
        "**(0.5 points)** Find the percentage of missing values for each feature. "
      ]
    },
    {
      "cell_type": "code",
      "metadata": {
        "id": "8r7HLkGIt1NW"
      },
      "source": [
        "def missing_data(data):\r\n",
        "    total = data.isnull().sum().sort_values(ascending = False)\r\n",
        "    percent = (data.isnull().sum()/data.isnull().count()*100).sort_values(ascending = False)\r\n",
        "    return pd.concat([total, percent], axis=1, keys=['Total', 'Percent'])"
      ],
      "execution_count": 19,
      "outputs": []
    },
    {
      "cell_type": "code",
      "metadata": {
        "colab": {
          "base_uri": "https://localhost:8080/",
          "height": 375
        },
        "id": "BfVF5AgQBIBm",
        "outputId": "06c03709-e83f-4ca1-ff13-a801be631648"
      },
      "source": [
        "    total = data.isnull().sum().sort_values(ascending = False)\r\n",
        "    percent = (data.isnull().sum()/data.isnull().count()*100).sort_values(ascending = False)\r\n",
        "    pd.concat([total, percent], axis=1, keys=['Total', 'Percent'])"
      ],
      "execution_count": 20,
      "outputs": [
        {
          "output_type": "execute_result",
          "data": {
            "text/html": [
              "<div>\n",
              "<style scoped>\n",
              "    .dataframe tbody tr th:only-of-type {\n",
              "        vertical-align: middle;\n",
              "    }\n",
              "\n",
              "    .dataframe tbody tr th {\n",
              "        vertical-align: top;\n",
              "    }\n",
              "\n",
              "    .dataframe thead th {\n",
              "        text-align: right;\n",
              "    }\n",
              "</style>\n",
              "<table border=\"1\" class=\"dataframe\">\n",
              "  <thead>\n",
              "    <tr style=\"text-align: right;\">\n",
              "      <th></th>\n",
              "      <th>Total</th>\n",
              "      <th>Percent</th>\n",
              "    </tr>\n",
              "  </thead>\n",
              "  <tbody>\n",
              "    <tr>\n",
              "      <th>Cabin</th>\n",
              "      <td>687</td>\n",
              "      <td>77.104377</td>\n",
              "    </tr>\n",
              "    <tr>\n",
              "      <th>Age</th>\n",
              "      <td>177</td>\n",
              "      <td>19.865320</td>\n",
              "    </tr>\n",
              "    <tr>\n",
              "      <th>Embarked</th>\n",
              "      <td>2</td>\n",
              "      <td>0.224467</td>\n",
              "    </tr>\n",
              "    <tr>\n",
              "      <th>Fare</th>\n",
              "      <td>0</td>\n",
              "      <td>0.000000</td>\n",
              "    </tr>\n",
              "    <tr>\n",
              "      <th>Ticket</th>\n",
              "      <td>0</td>\n",
              "      <td>0.000000</td>\n",
              "    </tr>\n",
              "    <tr>\n",
              "      <th>Parch</th>\n",
              "      <td>0</td>\n",
              "      <td>0.000000</td>\n",
              "    </tr>\n",
              "    <tr>\n",
              "      <th>SibSp</th>\n",
              "      <td>0</td>\n",
              "      <td>0.000000</td>\n",
              "    </tr>\n",
              "    <tr>\n",
              "      <th>Sex</th>\n",
              "      <td>0</td>\n",
              "      <td>0.000000</td>\n",
              "    </tr>\n",
              "    <tr>\n",
              "      <th>Name</th>\n",
              "      <td>0</td>\n",
              "      <td>0.000000</td>\n",
              "    </tr>\n",
              "    <tr>\n",
              "      <th>Pclass</th>\n",
              "      <td>0</td>\n",
              "      <td>0.000000</td>\n",
              "    </tr>\n",
              "    <tr>\n",
              "      <th>Survived</th>\n",
              "      <td>0</td>\n",
              "      <td>0.000000</td>\n",
              "    </tr>\n",
              "  </tbody>\n",
              "</table>\n",
              "</div>"
            ],
            "text/plain": [
              "          Total    Percent\n",
              "Cabin       687  77.104377\n",
              "Age         177  19.865320\n",
              "Embarked      2   0.224467\n",
              "Fare          0   0.000000\n",
              "Ticket        0   0.000000\n",
              "Parch         0   0.000000\n",
              "SibSp         0   0.000000\n",
              "Sex           0   0.000000\n",
              "Name          0   0.000000\n",
              "Pclass        0   0.000000\n",
              "Survived      0   0.000000"
            ]
          },
          "metadata": {
            "tags": []
          },
          "execution_count": 20
        }
      ]
    },
    {
      "cell_type": "code",
      "metadata": {
        "id": "1Bt_uDjQGveZ"
      },
      "source": [
        "data['Age'].fillna(data['Age'].median(), inplace=True)\r\n"
      ],
      "execution_count": 21,
      "outputs": []
    },
    {
      "cell_type": "code",
      "metadata": {
        "id": "_Ih2R8YyHgig"
      },
      "source": [
        "data['Cabin'].fillna('1', inplace=True)\r\n"
      ],
      "execution_count": 22,
      "outputs": []
    },
    {
      "cell_type": "code",
      "metadata": {
        "id": "DgSUHUsnHoMq"
      },
      "source": [
        "data['Embarked'].fillna('S', inplace=True)"
      ],
      "execution_count": 23,
      "outputs": []
    },
    {
      "cell_type": "code",
      "metadata": {
        "colab": {
          "base_uri": "https://localhost:8080/",
          "height": 375
        },
        "id": "VbNiAaY5HtBl",
        "outputId": "0ebdfac9-2256-4815-d116-b1be161dcf41"
      },
      "source": [
        "    total = data.isnull().sum().sort_values(ascending = False)\r\n",
        "    percent = (data.isnull().sum()/data.isnull().count()*100).sort_values(ascending = False)\r\n",
        "    pd.concat([total, percent], axis=1, keys=['Total', 'Percent'])"
      ],
      "execution_count": 24,
      "outputs": [
        {
          "output_type": "execute_result",
          "data": {
            "text/html": [
              "<div>\n",
              "<style scoped>\n",
              "    .dataframe tbody tr th:only-of-type {\n",
              "        vertical-align: middle;\n",
              "    }\n",
              "\n",
              "    .dataframe tbody tr th {\n",
              "        vertical-align: top;\n",
              "    }\n",
              "\n",
              "    .dataframe thead th {\n",
              "        text-align: right;\n",
              "    }\n",
              "</style>\n",
              "<table border=\"1\" class=\"dataframe\">\n",
              "  <thead>\n",
              "    <tr style=\"text-align: right;\">\n",
              "      <th></th>\n",
              "      <th>Total</th>\n",
              "      <th>Percent</th>\n",
              "    </tr>\n",
              "  </thead>\n",
              "  <tbody>\n",
              "    <tr>\n",
              "      <th>Embarked</th>\n",
              "      <td>0</td>\n",
              "      <td>0.0</td>\n",
              "    </tr>\n",
              "    <tr>\n",
              "      <th>Cabin</th>\n",
              "      <td>0</td>\n",
              "      <td>0.0</td>\n",
              "    </tr>\n",
              "    <tr>\n",
              "      <th>Fare</th>\n",
              "      <td>0</td>\n",
              "      <td>0.0</td>\n",
              "    </tr>\n",
              "    <tr>\n",
              "      <th>Ticket</th>\n",
              "      <td>0</td>\n",
              "      <td>0.0</td>\n",
              "    </tr>\n",
              "    <tr>\n",
              "      <th>Parch</th>\n",
              "      <td>0</td>\n",
              "      <td>0.0</td>\n",
              "    </tr>\n",
              "    <tr>\n",
              "      <th>SibSp</th>\n",
              "      <td>0</td>\n",
              "      <td>0.0</td>\n",
              "    </tr>\n",
              "    <tr>\n",
              "      <th>Age</th>\n",
              "      <td>0</td>\n",
              "      <td>0.0</td>\n",
              "    </tr>\n",
              "    <tr>\n",
              "      <th>Sex</th>\n",
              "      <td>0</td>\n",
              "      <td>0.0</td>\n",
              "    </tr>\n",
              "    <tr>\n",
              "      <th>Name</th>\n",
              "      <td>0</td>\n",
              "      <td>0.0</td>\n",
              "    </tr>\n",
              "    <tr>\n",
              "      <th>Pclass</th>\n",
              "      <td>0</td>\n",
              "      <td>0.0</td>\n",
              "    </tr>\n",
              "    <tr>\n",
              "      <th>Survived</th>\n",
              "      <td>0</td>\n",
              "      <td>0.0</td>\n",
              "    </tr>\n",
              "  </tbody>\n",
              "</table>\n",
              "</div>"
            ],
            "text/plain": [
              "          Total  Percent\n",
              "Embarked      0      0.0\n",
              "Cabin         0      0.0\n",
              "Fare          0      0.0\n",
              "Ticket        0      0.0\n",
              "Parch         0      0.0\n",
              "SibSp         0      0.0\n",
              "Age           0      0.0\n",
              "Sex           0      0.0\n",
              "Name          0      0.0\n",
              "Pclass        0      0.0\n",
              "Survived      0      0.0"
            ]
          },
          "metadata": {
            "tags": []
          },
          "execution_count": 24
        }
      ]
    },
    {
      "cell_type": "markdown",
      "metadata": {
        "id": "Urz8LEh0t1NW"
      },
      "source": [
        "Think about the ways to handle these missing values for modelling and write your answer below. Which methods would you suggest? What are their advantages and disadvantages?\n",
        "The cabin one can filling some constant value up.\n",
        "The age one can filling median value, for the reason the majority of passengers had mean value of age.\n",
        "The embarked one can filling \"S\", for the reason the majority of values for this feature."
      ]
    },
    {
      "cell_type": "markdown",
      "metadata": {
        "id": "rUUC6SbKt1NW"
      },
      "source": [
        "**(1.5 points)** Prepare the features and train two models (KNN and Logistic Regression) to predict the survival. Compare the results. Use accuracy as a metric. Don't forget about cross-validation!"
      ]
    },
    {
      "cell_type": "code",
      "metadata": {
        "id": "eskOztERt1NW"
      },
      "source": [
        "y = data['Survived']"
      ],
      "execution_count": 25,
      "outputs": []
    },
    {
      "cell_type": "code",
      "metadata": {
        "id": "IvefHpXpRNKp"
      },
      "source": [
        "data = data.replace('male', 0)\r\n",
        "data = data.replace('female', 1)\r\n",
        "data = data.replace('S', 1)\r\n",
        "data = data.replace('C', 2)\r\n",
        "data = data.replace('Q', 3)\r\n",
        "\r\n",
        "data.drop([\"Name\", \"Ticket\", \"Cabin\"], axis = 1, inplace = True)"
      ],
      "execution_count": 26,
      "outputs": []
    },
    {
      "cell_type": "code",
      "metadata": {
        "id": "ckfeFksKM5KX"
      },
      "source": [
        "train = data.drop(\"Survived\", 1)"
      ],
      "execution_count": 27,
      "outputs": []
    },
    {
      "cell_type": "code",
      "metadata": {
        "id": "gtNjfrrTt1NW"
      },
      "source": [
        "train_X,val_X,train_y,val_y=train_test_split(train,y,test_size=0.3,random_state=1)"
      ],
      "execution_count": 28,
      "outputs": []
    },
    {
      "cell_type": "code",
      "metadata": {
        "id": "HN-kNKM-NWY2"
      },
      "source": [
        "from sklearn.model_selection import StratifiedKFold\r\n",
        "skf = StratifiedKFold(n_splits=10, random_state=17, shuffle=True)"
      ],
      "execution_count": 29,
      "outputs": []
    },
    {
      "cell_type": "code",
      "metadata": {
        "colab": {
          "base_uri": "https://localhost:8080/"
        },
        "id": "4c3WWwrrNjoc",
        "outputId": "56a07c49-8f64-432b-acfa-86e1b4334d53"
      },
      "source": [
        "from sklearn.neighbors import KNeighborsClassifier\r\n",
        "from sklearn.model_selection import cross_val_score\r\n",
        "knn = KNeighborsClassifier(n_neighbors=5)\r\n",
        "knn_model = knn.fit(train_X, train_y)\r\n",
        "knn_prediction = knn.predict(val_X)\r\n",
        "knn_score = cross_val_score(knn, train_X, train_y, cv=skf)\r\n",
        "knn_score.mean()"
      ],
      "execution_count": 30,
      "outputs": [
        {
          "output_type": "execute_result",
          "data": {
            "text/plain": [
              "0.6918586789554533"
            ]
          },
          "metadata": {
            "tags": []
          },
          "execution_count": 30
        }
      ]
    },
    {
      "cell_type": "code",
      "metadata": {
        "colab": {
          "base_uri": "https://localhost:8080/"
        },
        "id": "MbKDlGQoR6ay",
        "outputId": "0dca61ac-59b4-413f-b670-38d25192e281"
      },
      "source": [
        "from sklearn.linear_model import LogisticRegression\r\n",
        "from sklearn.model_selection import cross_val_score\r\n",
        "logreg = LogisticRegression(solver='liblinear', penalty='l2')\r\n",
        "logreg_model = logreg.fit(train_X, train_y)\r\n",
        "logreg_prediction = logreg.predict(val_X)\r\n",
        "logreg_score = cross_val_score(logreg, train_X, train_y, cv=skf)\r\n",
        "logreg_score.mean()"
      ],
      "execution_count": 31,
      "outputs": [
        {
          "output_type": "execute_result",
          "data": {
            "text/plain": [
              "0.8071684587813619"
            ]
          },
          "metadata": {
            "tags": []
          },
          "execution_count": 31
        }
      ]
    },
    {
      "cell_type": "markdown",
      "metadata": {
        "id": "1TTStrJQt1NX"
      },
      "source": [
        "**(0.5 + X points)** Try more feature engineering and hyperparameter tuning to improve the results. You may use either KNN or Logistic Regression (or both)."
      ]
    },
    {
      "cell_type": "markdown",
      "metadata": {
        "id": "8j0q49l8t1NX"
      },
      "source": [
        "Load the test set and make the predictions. Submit them to kaggle and see the results :)\n",
        "Select the best model, load the test set and make the predictions. Submit them to kaggle.\n",
        "\n",
        "**Note**. X points will depend on your kaggle leaderboard score.\n",
        "$$ f(score) = 0.5, \\ \\ 0.79 \\leq score < 0.81,$$\n",
        "$$ f(score) = 1.0, \\ \\ 0.81 \\leq score < 0.83,$$ \n",
        "$$ f(score) = 2.5, \\ \\ 0.83 \\leq score $$ Your code should generate the output submitted to kaggle. Fix random seeds to make the results reproducible.\n",
        "\n",
        "\n",
        "> update\n",
        "\n",
        "\n",
        "![image.png](data:image/png;base64,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)\n"
      ]
    },
    {
      "cell_type": "code",
      "metadata": {
        "id": "Dvtkj9kit1NX"
      },
      "source": [
        "test = pd.read_csv(os.path.join(PATH, 'titanic', 'test.csv')).set_index('PassengerId')"
      ],
      "execution_count": 121,
      "outputs": []
    },
    {
      "cell_type": "code",
      "metadata": {
        "colab": {
          "base_uri": "https://localhost:8080/",
          "height": 468
        },
        "id": "ioCUjzRHC8va",
        "outputId": "77dd37ce-bb8f-4a68-99e0-39dfa3182e80"
      },
      "source": [
        "test.head(418)"
      ],
      "execution_count": 122,
      "outputs": [
        {
          "output_type": "execute_result",
          "data": {
            "text/html": [
              "<div>\n",
              "<style scoped>\n",
              "    .dataframe tbody tr th:only-of-type {\n",
              "        vertical-align: middle;\n",
              "    }\n",
              "\n",
              "    .dataframe tbody tr th {\n",
              "        vertical-align: top;\n",
              "    }\n",
              "\n",
              "    .dataframe thead th {\n",
              "        text-align: right;\n",
              "    }\n",
              "</style>\n",
              "<table border=\"1\" class=\"dataframe\">\n",
              "  <thead>\n",
              "    <tr style=\"text-align: right;\">\n",
              "      <th></th>\n",
              "      <th>Pclass</th>\n",
              "      <th>Name</th>\n",
              "      <th>Sex</th>\n",
              "      <th>Age</th>\n",
              "      <th>SibSp</th>\n",
              "      <th>Parch</th>\n",
              "      <th>Ticket</th>\n",
              "      <th>Fare</th>\n",
              "      <th>Cabin</th>\n",
              "      <th>Embarked</th>\n",
              "    </tr>\n",
              "    <tr>\n",
              "      <th>PassengerId</th>\n",
              "      <th></th>\n",
              "      <th></th>\n",
              "      <th></th>\n",
              "      <th></th>\n",
              "      <th></th>\n",
              "      <th></th>\n",
              "      <th></th>\n",
              "      <th></th>\n",
              "      <th></th>\n",
              "      <th></th>\n",
              "    </tr>\n",
              "  </thead>\n",
              "  <tbody>\n",
              "    <tr>\n",
              "      <th>892</th>\n",
              "      <td>3</td>\n",
              "      <td>Kelly, Mr. James</td>\n",
              "      <td>male</td>\n",
              "      <td>34.5</td>\n",
              "      <td>0</td>\n",
              "      <td>0</td>\n",
              "      <td>330911</td>\n",
              "      <td>7.8292</td>\n",
              "      <td>NaN</td>\n",
              "      <td>Q</td>\n",
              "    </tr>\n",
              "    <tr>\n",
              "      <th>893</th>\n",
              "      <td>3</td>\n",
              "      <td>Wilkes, Mrs. James (Ellen Needs)</td>\n",
              "      <td>female</td>\n",
              "      <td>47.0</td>\n",
              "      <td>1</td>\n",
              "      <td>0</td>\n",
              "      <td>363272</td>\n",
              "      <td>7.0000</td>\n",
              "      <td>NaN</td>\n",
              "      <td>S</td>\n",
              "    </tr>\n",
              "    <tr>\n",
              "      <th>894</th>\n",
              "      <td>2</td>\n",
              "      <td>Myles, Mr. Thomas Francis</td>\n",
              "      <td>male</td>\n",
              "      <td>62.0</td>\n",
              "      <td>0</td>\n",
              "      <td>0</td>\n",
              "      <td>240276</td>\n",
              "      <td>9.6875</td>\n",
              "      <td>NaN</td>\n",
              "      <td>Q</td>\n",
              "    </tr>\n",
              "    <tr>\n",
              "      <th>895</th>\n",
              "      <td>3</td>\n",
              "      <td>Wirz, Mr. Albert</td>\n",
              "      <td>male</td>\n",
              "      <td>27.0</td>\n",
              "      <td>0</td>\n",
              "      <td>0</td>\n",
              "      <td>315154</td>\n",
              "      <td>8.6625</td>\n",
              "      <td>NaN</td>\n",
              "      <td>S</td>\n",
              "    </tr>\n",
              "    <tr>\n",
              "      <th>896</th>\n",
              "      <td>3</td>\n",
              "      <td>Hirvonen, Mrs. Alexander (Helga E Lindqvist)</td>\n",
              "      <td>female</td>\n",
              "      <td>22.0</td>\n",
              "      <td>1</td>\n",
              "      <td>1</td>\n",
              "      <td>3101298</td>\n",
              "      <td>12.2875</td>\n",
              "      <td>NaN</td>\n",
              "      <td>S</td>\n",
              "    </tr>\n",
              "    <tr>\n",
              "      <th>...</th>\n",
              "      <td>...</td>\n",
              "      <td>...</td>\n",
              "      <td>...</td>\n",
              "      <td>...</td>\n",
              "      <td>...</td>\n",
              "      <td>...</td>\n",
              "      <td>...</td>\n",
              "      <td>...</td>\n",
              "      <td>...</td>\n",
              "      <td>...</td>\n",
              "    </tr>\n",
              "    <tr>\n",
              "      <th>1305</th>\n",
              "      <td>3</td>\n",
              "      <td>Spector, Mr. Woolf</td>\n",
              "      <td>male</td>\n",
              "      <td>NaN</td>\n",
              "      <td>0</td>\n",
              "      <td>0</td>\n",
              "      <td>A.5. 3236</td>\n",
              "      <td>8.0500</td>\n",
              "      <td>NaN</td>\n",
              "      <td>S</td>\n",
              "    </tr>\n",
              "    <tr>\n",
              "      <th>1306</th>\n",
              "      <td>1</td>\n",
              "      <td>Oliva y Ocana, Dona. Fermina</td>\n",
              "      <td>female</td>\n",
              "      <td>39.0</td>\n",
              "      <td>0</td>\n",
              "      <td>0</td>\n",
              "      <td>PC 17758</td>\n",
              "      <td>108.9000</td>\n",
              "      <td>C105</td>\n",
              "      <td>C</td>\n",
              "    </tr>\n",
              "    <tr>\n",
              "      <th>1307</th>\n",
              "      <td>3</td>\n",
              "      <td>Saether, Mr. Simon Sivertsen</td>\n",
              "      <td>male</td>\n",
              "      <td>38.5</td>\n",
              "      <td>0</td>\n",
              "      <td>0</td>\n",
              "      <td>SOTON/O.Q. 3101262</td>\n",
              "      <td>7.2500</td>\n",
              "      <td>NaN</td>\n",
              "      <td>S</td>\n",
              "    </tr>\n",
              "    <tr>\n",
              "      <th>1308</th>\n",
              "      <td>3</td>\n",
              "      <td>Ware, Mr. Frederick</td>\n",
              "      <td>male</td>\n",
              "      <td>NaN</td>\n",
              "      <td>0</td>\n",
              "      <td>0</td>\n",
              "      <td>359309</td>\n",
              "      <td>8.0500</td>\n",
              "      <td>NaN</td>\n",
              "      <td>S</td>\n",
              "    </tr>\n",
              "    <tr>\n",
              "      <th>1309</th>\n",
              "      <td>3</td>\n",
              "      <td>Peter, Master. Michael J</td>\n",
              "      <td>male</td>\n",
              "      <td>NaN</td>\n",
              "      <td>1</td>\n",
              "      <td>1</td>\n",
              "      <td>2668</td>\n",
              "      <td>22.3583</td>\n",
              "      <td>NaN</td>\n",
              "      <td>C</td>\n",
              "    </tr>\n",
              "  </tbody>\n",
              "</table>\n",
              "<p>418 rows × 10 columns</p>\n",
              "</div>"
            ],
            "text/plain": [
              "             Pclass  ... Embarked\n",
              "PassengerId          ...         \n",
              "892               3  ...        Q\n",
              "893               3  ...        S\n",
              "894               2  ...        Q\n",
              "895               3  ...        S\n",
              "896               3  ...        S\n",
              "...             ...  ...      ...\n",
              "1305              3  ...        S\n",
              "1306              1  ...        C\n",
              "1307              3  ...        S\n",
              "1308              3  ...        S\n",
              "1309              3  ...        C\n",
              "\n",
              "[418 rows x 10 columns]"
            ]
          },
          "metadata": {
            "tags": []
          },
          "execution_count": 122
        }
      ]
    },
    {
      "cell_type": "code",
      "metadata": {
        "colab": {
          "base_uri": "https://localhost:8080/",
          "height": 345
        },
        "id": "eICaamWbDfC2",
        "outputId": "d3b56dac-6bf1-4017-8d4c-f0bb8077cde6"
      },
      "source": [
        "total = test.isnull().sum().sort_values(ascending = False)\r\n",
        "percent = (test.isnull().sum()/test.isnull().count()*100).sort_values(ascending = False)\r\n",
        "pd.concat([total, percent], axis=1, keys=['Total', 'Percent'])"
      ],
      "execution_count": 123,
      "outputs": [
        {
          "output_type": "execute_result",
          "data": {
            "text/html": [
              "<div>\n",
              "<style scoped>\n",
              "    .dataframe tbody tr th:only-of-type {\n",
              "        vertical-align: middle;\n",
              "    }\n",
              "\n",
              "    .dataframe tbody tr th {\n",
              "        vertical-align: top;\n",
              "    }\n",
              "\n",
              "    .dataframe thead th {\n",
              "        text-align: right;\n",
              "    }\n",
              "</style>\n",
              "<table border=\"1\" class=\"dataframe\">\n",
              "  <thead>\n",
              "    <tr style=\"text-align: right;\">\n",
              "      <th></th>\n",
              "      <th>Total</th>\n",
              "      <th>Percent</th>\n",
              "    </tr>\n",
              "  </thead>\n",
              "  <tbody>\n",
              "    <tr>\n",
              "      <th>Cabin</th>\n",
              "      <td>327</td>\n",
              "      <td>78.229665</td>\n",
              "    </tr>\n",
              "    <tr>\n",
              "      <th>Age</th>\n",
              "      <td>86</td>\n",
              "      <td>20.574163</td>\n",
              "    </tr>\n",
              "    <tr>\n",
              "      <th>Fare</th>\n",
              "      <td>1</td>\n",
              "      <td>0.239234</td>\n",
              "    </tr>\n",
              "    <tr>\n",
              "      <th>Embarked</th>\n",
              "      <td>0</td>\n",
              "      <td>0.000000</td>\n",
              "    </tr>\n",
              "    <tr>\n",
              "      <th>Ticket</th>\n",
              "      <td>0</td>\n",
              "      <td>0.000000</td>\n",
              "    </tr>\n",
              "    <tr>\n",
              "      <th>Parch</th>\n",
              "      <td>0</td>\n",
              "      <td>0.000000</td>\n",
              "    </tr>\n",
              "    <tr>\n",
              "      <th>SibSp</th>\n",
              "      <td>0</td>\n",
              "      <td>0.000000</td>\n",
              "    </tr>\n",
              "    <tr>\n",
              "      <th>Sex</th>\n",
              "      <td>0</td>\n",
              "      <td>0.000000</td>\n",
              "    </tr>\n",
              "    <tr>\n",
              "      <th>Name</th>\n",
              "      <td>0</td>\n",
              "      <td>0.000000</td>\n",
              "    </tr>\n",
              "    <tr>\n",
              "      <th>Pclass</th>\n",
              "      <td>0</td>\n",
              "      <td>0.000000</td>\n",
              "    </tr>\n",
              "  </tbody>\n",
              "</table>\n",
              "</div>"
            ],
            "text/plain": [
              "          Total    Percent\n",
              "Cabin       327  78.229665\n",
              "Age          86  20.574163\n",
              "Fare          1   0.239234\n",
              "Embarked      0   0.000000\n",
              "Ticket        0   0.000000\n",
              "Parch         0   0.000000\n",
              "SibSp         0   0.000000\n",
              "Sex           0   0.000000\n",
              "Name          0   0.000000\n",
              "Pclass        0   0.000000"
            ]
          },
          "metadata": {
            "tags": []
          },
          "execution_count": 123
        }
      ]
    },
    {
      "cell_type": "code",
      "metadata": {
        "id": "HqJJVDa9D5Gi"
      },
      "source": [
        "test['Age'].fillna(data['Age'].median(), inplace=True)"
      ],
      "execution_count": 124,
      "outputs": []
    },
    {
      "cell_type": "code",
      "metadata": {
        "id": "KT5neVPSD7N4"
      },
      "source": [
        "test['Cabin'].fillna('1', inplace=True)"
      ],
      "execution_count": 125,
      "outputs": []
    },
    {
      "cell_type": "code",
      "metadata": {
        "id": "DLTRi5PGEcHz"
      },
      "source": [
        "test['Fare'].fillna(data['Fare'].mean(), inplace=True)"
      ],
      "execution_count": 126,
      "outputs": []
    },
    {
      "cell_type": "code",
      "metadata": {
        "colab": {
          "base_uri": "https://localhost:8080/",
          "height": 345
        },
        "id": "6pn5g-upEgNj",
        "outputId": "2ae0b1a4-2f33-4ea8-9a35-d1fee0f1c772"
      },
      "source": [
        "total = test.isnull().sum().sort_values(ascending = False)\r\n",
        "percent = (test.isnull().sum()/test.isnull().count()*100).sort_values(ascending = False)\r\n",
        "pd.concat([total, percent], axis=1, keys=['Total', 'Percent'])"
      ],
      "execution_count": 127,
      "outputs": [
        {
          "output_type": "execute_result",
          "data": {
            "text/html": [
              "<div>\n",
              "<style scoped>\n",
              "    .dataframe tbody tr th:only-of-type {\n",
              "        vertical-align: middle;\n",
              "    }\n",
              "\n",
              "    .dataframe tbody tr th {\n",
              "        vertical-align: top;\n",
              "    }\n",
              "\n",
              "    .dataframe thead th {\n",
              "        text-align: right;\n",
              "    }\n",
              "</style>\n",
              "<table border=\"1\" class=\"dataframe\">\n",
              "  <thead>\n",
              "    <tr style=\"text-align: right;\">\n",
              "      <th></th>\n",
              "      <th>Total</th>\n",
              "      <th>Percent</th>\n",
              "    </tr>\n",
              "  </thead>\n",
              "  <tbody>\n",
              "    <tr>\n",
              "      <th>Embarked</th>\n",
              "      <td>0</td>\n",
              "      <td>0.0</td>\n",
              "    </tr>\n",
              "    <tr>\n",
              "      <th>Cabin</th>\n",
              "      <td>0</td>\n",
              "      <td>0.0</td>\n",
              "    </tr>\n",
              "    <tr>\n",
              "      <th>Fare</th>\n",
              "      <td>0</td>\n",
              "      <td>0.0</td>\n",
              "    </tr>\n",
              "    <tr>\n",
              "      <th>Ticket</th>\n",
              "      <td>0</td>\n",
              "      <td>0.0</td>\n",
              "    </tr>\n",
              "    <tr>\n",
              "      <th>Parch</th>\n",
              "      <td>0</td>\n",
              "      <td>0.0</td>\n",
              "    </tr>\n",
              "    <tr>\n",
              "      <th>SibSp</th>\n",
              "      <td>0</td>\n",
              "      <td>0.0</td>\n",
              "    </tr>\n",
              "    <tr>\n",
              "      <th>Age</th>\n",
              "      <td>0</td>\n",
              "      <td>0.0</td>\n",
              "    </tr>\n",
              "    <tr>\n",
              "      <th>Sex</th>\n",
              "      <td>0</td>\n",
              "      <td>0.0</td>\n",
              "    </tr>\n",
              "    <tr>\n",
              "      <th>Name</th>\n",
              "      <td>0</td>\n",
              "      <td>0.0</td>\n",
              "    </tr>\n",
              "    <tr>\n",
              "      <th>Pclass</th>\n",
              "      <td>0</td>\n",
              "      <td>0.0</td>\n",
              "    </tr>\n",
              "  </tbody>\n",
              "</table>\n",
              "</div>"
            ],
            "text/plain": [
              "          Total  Percent\n",
              "Embarked      0      0.0\n",
              "Cabin         0      0.0\n",
              "Fare          0      0.0\n",
              "Ticket        0      0.0\n",
              "Parch         0      0.0\n",
              "SibSp         0      0.0\n",
              "Age           0      0.0\n",
              "Sex           0      0.0\n",
              "Name          0      0.0\n",
              "Pclass        0      0.0"
            ]
          },
          "metadata": {
            "tags": []
          },
          "execution_count": 127
        }
      ]
    },
    {
      "cell_type": "code",
      "metadata": {
        "id": "VDdQdwMPEsdF"
      },
      "source": [
        "test = test.replace('male', 0)\r\n",
        "test = test.replace('female', 1)\r\n",
        "test = test.replace('S', 1)\r\n",
        "test = test.replace('C', 2)\r\n",
        "test = test.replace('Q', 3)\r\n",
        "\r\n",
        "test.drop([\"Name\", \"Ticket\", \"Cabin\"], axis = 1, inplace = True)"
      ],
      "execution_count": 128,
      "outputs": []
    },
    {
      "cell_type": "code",
      "metadata": {
        "colab": {
          "base_uri": "https://localhost:8080/"
        },
        "id": "HVJ-daG6Kgj8",
        "outputId": "7f491eda-2c3e-4bf9-81b6-184aa24f97b6"
      },
      "source": [
        "test.shape"
      ],
      "execution_count": 129,
      "outputs": [
        {
          "output_type": "execute_result",
          "data": {
            "text/plain": [
              "(418, 7)"
            ]
          },
          "metadata": {
            "tags": []
          },
          "execution_count": 129
        }
      ]
    },
    {
      "cell_type": "code",
      "metadata": {
        "id": "a1AklpgaM7X6"
      },
      "source": [
        "test_X = test"
      ],
      "execution_count": 130,
      "outputs": []
    },
    {
      "cell_type": "code",
      "metadata": {
        "id": "sDnr5g6fEz4Z"
      },
      "source": [
        "test_y = logreg.predict(test_X)"
      ],
      "execution_count": 131,
      "outputs": []
    },
    {
      "cell_type": "code",
      "metadata": {
        "id": "3aLHsIqPIShv"
      },
      "source": [
        "submit = pd.read_csv(os.path.join(PATH, 'titanic', 'gender_submission.csv'))"
      ],
      "execution_count": 132,
      "outputs": []
    },
    {
      "cell_type": "code",
      "metadata": {
        "colab": {
          "base_uri": "https://localhost:8080/"
        },
        "id": "eFkaWDt3JE2k",
        "outputId": "b196a331-f6dd-4be9-f06c-2e9d2105d6df"
      },
      "source": [
        "submit.shape"
      ],
      "execution_count": 133,
      "outputs": [
        {
          "output_type": "execute_result",
          "data": {
            "text/plain": [
              "(418, 2)"
            ]
          },
          "metadata": {
            "tags": []
          },
          "execution_count": 133
        }
      ]
    },
    {
      "cell_type": "code",
      "metadata": {
        "colab": {
          "base_uri": "https://localhost:8080/"
        },
        "id": "a1ouAUt7Jidg",
        "outputId": "d62d522e-0805-41ea-8333-b35639d745d9"
      },
      "source": [
        "test_y.shape"
      ],
      "execution_count": 134,
      "outputs": [
        {
          "output_type": "execute_result",
          "data": {
            "text/plain": [
              "(418,)"
            ]
          },
          "metadata": {
            "tags": []
          },
          "execution_count": 134
        }
      ]
    },
    {
      "cell_type": "code",
      "metadata": {
        "id": "8DaCaK92L0vR"
      },
      "source": [
        "submit['Survived'] = test_y"
      ],
      "execution_count": 135,
      "outputs": []
    },
    {
      "cell_type": "code",
      "metadata": {
        "colab": {
          "base_uri": "https://localhost:8080/"
        },
        "id": "7g6l6R4FOETq",
        "outputId": "277df159-90d1-4a23-af9a-0352057d58de"
      },
      "source": [
        "print(test_y)"
      ],
      "execution_count": 137,
      "outputs": [
        {
          "output_type": "stream",
          "text": [
            "[0 0 0 0 1 0 1 0 1 0 0 0 1 0 1 1 0 0 0 0 0 0 1 1 1 0 1 0 0 0 0 0 0 1 0 0 1\n",
            " 1 0 0 0 0 0 1 1 0 0 0 1 1 0 0 1 1 0 0 0 0 0 1 0 0 0 1 1 1 1 0 0 1 1 0 1 1\n",
            " 1 1 0 1 0 1 0 0 0 0 0 0 1 1 1 0 1 0 1 0 1 0 1 0 1 0 1 0 0 0 1 0 0 0 0 0 0\n",
            " 1 1 1 1 0 0 1 0 1 1 0 1 0 0 1 0 1 0 0 0 0 1 0 0 0 0 0 1 0 0 1 0 0 0 0 0 0\n",
            " 0 0 1 0 0 1 0 0 1 1 0 1 1 0 1 0 0 1 0 0 1 1 0 0 0 0 0 1 1 0 1 1 0 0 1 0 1\n",
            " 0 1 0 0 0 0 0 0 0 0 0 1 1 0 1 1 0 0 1 0 1 1 0 1 0 0 0 0 0 0 0 1 0 1 0 1 0\n",
            " 1 0 1 1 0 1 0 0 0 1 0 0 0 0 0 0 1 1 1 1 0 0 0 0 1 0 1 1 1 0 0 0 0 0 0 0 1\n",
            " 0 0 0 1 1 0 0 0 0 1 0 0 0 1 1 0 1 0 0 0 0 1 0 1 1 1 0 0 0 0 0 0 1 0 0 0 0\n",
            " 1 0 0 0 0 0 0 0 1 1 0 0 0 0 0 0 0 1 1 1 0 0 0 0 0 0 0 0 1 0 1 0 0 0 1 0 0\n",
            " 1 0 0 0 0 0 0 0 0 0 1 0 1 0 1 0 1 1 0 0 0 1 0 1 0 0 0 0 1 1 0 1 1 0 1 1 0\n",
            " 0 1 0 0 1 1 0 0 0 0 0 0 1 1 0 1 0 0 0 0 1 1 0 0 0 1 0 1 0 0 1 0 1 1 0 0 0\n",
            " 0 1 1 1 1 1 0 1 0 0 0]\n"
          ],
          "name": "stdout"
        }
      ]
    },
    {
      "cell_type": "code",
      "metadata": {
        "colab": {
          "base_uri": "https://localhost:8080/",
          "height": 196
        },
        "id": "Wp74UyhKIrn3",
        "outputId": "824c4352-9d47-4031-d743-3c74dc057ded"
      },
      "source": [
        "submit.head()"
      ],
      "execution_count": 136,
      "outputs": [
        {
          "output_type": "execute_result",
          "data": {
            "text/html": [
              "<div>\n",
              "<style scoped>\n",
              "    .dataframe tbody tr th:only-of-type {\n",
              "        vertical-align: middle;\n",
              "    }\n",
              "\n",
              "    .dataframe tbody tr th {\n",
              "        vertical-align: top;\n",
              "    }\n",
              "\n",
              "    .dataframe thead th {\n",
              "        text-align: right;\n",
              "    }\n",
              "</style>\n",
              "<table border=\"1\" class=\"dataframe\">\n",
              "  <thead>\n",
              "    <tr style=\"text-align: right;\">\n",
              "      <th></th>\n",
              "      <th>PassengerId</th>\n",
              "      <th>Survived</th>\n",
              "    </tr>\n",
              "  </thead>\n",
              "  <tbody>\n",
              "    <tr>\n",
              "      <th>0</th>\n",
              "      <td>892</td>\n",
              "      <td>0</td>\n",
              "    </tr>\n",
              "    <tr>\n",
              "      <th>1</th>\n",
              "      <td>893</td>\n",
              "      <td>0</td>\n",
              "    </tr>\n",
              "    <tr>\n",
              "      <th>2</th>\n",
              "      <td>894</td>\n",
              "      <td>0</td>\n",
              "    </tr>\n",
              "    <tr>\n",
              "      <th>3</th>\n",
              "      <td>895</td>\n",
              "      <td>0</td>\n",
              "    </tr>\n",
              "    <tr>\n",
              "      <th>4</th>\n",
              "      <td>896</td>\n",
              "      <td>1</td>\n",
              "    </tr>\n",
              "  </tbody>\n",
              "</table>\n",
              "</div>"
            ],
            "text/plain": [
              "   PassengerId  Survived\n",
              "0          892         0\n",
              "1          893         0\n",
              "2          894         0\n",
              "3          895         0\n",
              "4          896         1"
            ]
          },
          "metadata": {
            "tags": []
          },
          "execution_count": 136
        }
      ]
    },
    {
      "cell_type": "code",
      "metadata": {
        "id": "XSvUi2LzOO4P"
      },
      "source": [
        "submit.to_csv('submit.csv',index=False)"
      ],
      "execution_count": 138,
      "outputs": []
    },
    {
      "cell_type": "markdown",
      "metadata": {
        "id": "GiXvf7RERKOC"
      },
      "source": [
        "![submit.PNG](data:image/png;base64,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)"
      ]
    },
    {
      "cell_type": "markdown",
      "metadata": {
        "id": "1gJTOPVct1NX"
      },
      "source": [
        "## Part 2: Porto Seguro’s Safe Driver Prediction"
      ]
    },
    {
      "cell_type": "markdown",
      "metadata": {
        "id": "_8ZvOYqSt1NX"
      },
      "source": [
        "Let's build a model that predicts the probability that a driver will initiate an auto insurance claim in the next year.\n",
        "Read the detailed description and download the dataset https://www.kaggle.com/c/porto-seguro-safe-driver-prediction/data. Put the data into *./data/porto/*."
      ]
    },
    {
      "cell_type": "code",
      "metadata": {
        "colab": {
          "base_uri": "https://localhost:8080/",
          "height": 369
        },
        "id": "VnUdYkmtt1NY",
        "outputId": "ee8760b1-d652-4a27-c299-2e0eac7c4543"
      },
      "source": [
        "insurance_data = pd.read_csv(os.path.join(PATH, 'porto', 'train.csv')).set_index('id')"
      ],
      "execution_count": 34,
      "outputs": [
        {
          "output_type": "error",
          "ename": "FileNotFoundError",
          "evalue": "ignored",
          "traceback": [
            "\u001b[0;31m---------------------------------------------------------------------------\u001b[0m",
            "\u001b[0;31mFileNotFoundError\u001b[0m                         Traceback (most recent call last)",
            "\u001b[0;32m<ipython-input-34-4b55f5471631>\u001b[0m in \u001b[0;36m<module>\u001b[0;34m()\u001b[0m\n\u001b[0;32m----> 1\u001b[0;31m \u001b[0minsurance_data\u001b[0m \u001b[0;34m=\u001b[0m \u001b[0mpd\u001b[0m\u001b[0;34m.\u001b[0m\u001b[0mread_csv\u001b[0m\u001b[0;34m(\u001b[0m\u001b[0mos\u001b[0m\u001b[0;34m.\u001b[0m\u001b[0mpath\u001b[0m\u001b[0;34m.\u001b[0m\u001b[0mjoin\u001b[0m\u001b[0;34m(\u001b[0m\u001b[0mPATH\u001b[0m\u001b[0;34m,\u001b[0m \u001b[0;34m'porto'\u001b[0m\u001b[0;34m,\u001b[0m \u001b[0;34m'train.csv'\u001b[0m\u001b[0;34m)\u001b[0m\u001b[0;34m)\u001b[0m\u001b[0;34m.\u001b[0m\u001b[0mset_index\u001b[0m\u001b[0;34m(\u001b[0m\u001b[0;34m'id'\u001b[0m\u001b[0;34m)\u001b[0m\u001b[0;34m\u001b[0m\u001b[0;34m\u001b[0m\u001b[0m\n\u001b[0m",
            "\u001b[0;32m/usr/local/lib/python3.7/dist-packages/pandas/io/parsers.py\u001b[0m in \u001b[0;36mread_csv\u001b[0;34m(filepath_or_buffer, sep, delimiter, header, names, index_col, usecols, squeeze, prefix, mangle_dupe_cols, dtype, engine, converters, true_values, false_values, skipinitialspace, skiprows, skipfooter, nrows, na_values, keep_default_na, na_filter, verbose, skip_blank_lines, parse_dates, infer_datetime_format, keep_date_col, date_parser, dayfirst, cache_dates, iterator, chunksize, compression, thousands, decimal, lineterminator, quotechar, quoting, doublequote, escapechar, comment, encoding, dialect, error_bad_lines, warn_bad_lines, delim_whitespace, low_memory, memory_map, float_precision)\u001b[0m\n\u001b[1;32m    686\u001b[0m     )\n\u001b[1;32m    687\u001b[0m \u001b[0;34m\u001b[0m\u001b[0m\n\u001b[0;32m--> 688\u001b[0;31m     \u001b[0;32mreturn\u001b[0m \u001b[0m_read\u001b[0m\u001b[0;34m(\u001b[0m\u001b[0mfilepath_or_buffer\u001b[0m\u001b[0;34m,\u001b[0m \u001b[0mkwds\u001b[0m\u001b[0;34m)\u001b[0m\u001b[0;34m\u001b[0m\u001b[0;34m\u001b[0m\u001b[0m\n\u001b[0m\u001b[1;32m    689\u001b[0m \u001b[0;34m\u001b[0m\u001b[0m\n\u001b[1;32m    690\u001b[0m \u001b[0;34m\u001b[0m\u001b[0m\n",
            "\u001b[0;32m/usr/local/lib/python3.7/dist-packages/pandas/io/parsers.py\u001b[0m in \u001b[0;36m_read\u001b[0;34m(filepath_or_buffer, kwds)\u001b[0m\n\u001b[1;32m    452\u001b[0m \u001b[0;34m\u001b[0m\u001b[0m\n\u001b[1;32m    453\u001b[0m     \u001b[0;31m# Create the parser.\u001b[0m\u001b[0;34m\u001b[0m\u001b[0;34m\u001b[0m\u001b[0;34m\u001b[0m\u001b[0m\n\u001b[0;32m--> 454\u001b[0;31m     \u001b[0mparser\u001b[0m \u001b[0;34m=\u001b[0m \u001b[0mTextFileReader\u001b[0m\u001b[0;34m(\u001b[0m\u001b[0mfp_or_buf\u001b[0m\u001b[0;34m,\u001b[0m \u001b[0;34m**\u001b[0m\u001b[0mkwds\u001b[0m\u001b[0;34m)\u001b[0m\u001b[0;34m\u001b[0m\u001b[0;34m\u001b[0m\u001b[0m\n\u001b[0m\u001b[1;32m    455\u001b[0m \u001b[0;34m\u001b[0m\u001b[0m\n\u001b[1;32m    456\u001b[0m     \u001b[0;32mif\u001b[0m \u001b[0mchunksize\u001b[0m \u001b[0;32mor\u001b[0m \u001b[0miterator\u001b[0m\u001b[0;34m:\u001b[0m\u001b[0;34m\u001b[0m\u001b[0;34m\u001b[0m\u001b[0m\n",
            "\u001b[0;32m/usr/local/lib/python3.7/dist-packages/pandas/io/parsers.py\u001b[0m in \u001b[0;36m__init__\u001b[0;34m(self, f, engine, **kwds)\u001b[0m\n\u001b[1;32m    946\u001b[0m             \u001b[0mself\u001b[0m\u001b[0;34m.\u001b[0m\u001b[0moptions\u001b[0m\u001b[0;34m[\u001b[0m\u001b[0;34m\"has_index_names\"\u001b[0m\u001b[0;34m]\u001b[0m \u001b[0;34m=\u001b[0m \u001b[0mkwds\u001b[0m\u001b[0;34m[\u001b[0m\u001b[0;34m\"has_index_names\"\u001b[0m\u001b[0;34m]\u001b[0m\u001b[0;34m\u001b[0m\u001b[0;34m\u001b[0m\u001b[0m\n\u001b[1;32m    947\u001b[0m \u001b[0;34m\u001b[0m\u001b[0m\n\u001b[0;32m--> 948\u001b[0;31m         \u001b[0mself\u001b[0m\u001b[0;34m.\u001b[0m\u001b[0m_make_engine\u001b[0m\u001b[0;34m(\u001b[0m\u001b[0mself\u001b[0m\u001b[0;34m.\u001b[0m\u001b[0mengine\u001b[0m\u001b[0;34m)\u001b[0m\u001b[0;34m\u001b[0m\u001b[0;34m\u001b[0m\u001b[0m\n\u001b[0m\u001b[1;32m    949\u001b[0m \u001b[0;34m\u001b[0m\u001b[0m\n\u001b[1;32m    950\u001b[0m     \u001b[0;32mdef\u001b[0m \u001b[0mclose\u001b[0m\u001b[0;34m(\u001b[0m\u001b[0mself\u001b[0m\u001b[0;34m)\u001b[0m\u001b[0;34m:\u001b[0m\u001b[0;34m\u001b[0m\u001b[0;34m\u001b[0m\u001b[0m\n",
            "\u001b[0;32m/usr/local/lib/python3.7/dist-packages/pandas/io/parsers.py\u001b[0m in \u001b[0;36m_make_engine\u001b[0;34m(self, engine)\u001b[0m\n\u001b[1;32m   1178\u001b[0m     \u001b[0;32mdef\u001b[0m \u001b[0m_make_engine\u001b[0m\u001b[0;34m(\u001b[0m\u001b[0mself\u001b[0m\u001b[0;34m,\u001b[0m \u001b[0mengine\u001b[0m\u001b[0;34m=\u001b[0m\u001b[0;34m\"c\"\u001b[0m\u001b[0;34m)\u001b[0m\u001b[0;34m:\u001b[0m\u001b[0;34m\u001b[0m\u001b[0;34m\u001b[0m\u001b[0m\n\u001b[1;32m   1179\u001b[0m         \u001b[0;32mif\u001b[0m \u001b[0mengine\u001b[0m \u001b[0;34m==\u001b[0m \u001b[0;34m\"c\"\u001b[0m\u001b[0;34m:\u001b[0m\u001b[0;34m\u001b[0m\u001b[0;34m\u001b[0m\u001b[0m\n\u001b[0;32m-> 1180\u001b[0;31m             \u001b[0mself\u001b[0m\u001b[0;34m.\u001b[0m\u001b[0m_engine\u001b[0m \u001b[0;34m=\u001b[0m \u001b[0mCParserWrapper\u001b[0m\u001b[0;34m(\u001b[0m\u001b[0mself\u001b[0m\u001b[0;34m.\u001b[0m\u001b[0mf\u001b[0m\u001b[0;34m,\u001b[0m \u001b[0;34m**\u001b[0m\u001b[0mself\u001b[0m\u001b[0;34m.\u001b[0m\u001b[0moptions\u001b[0m\u001b[0;34m)\u001b[0m\u001b[0;34m\u001b[0m\u001b[0;34m\u001b[0m\u001b[0m\n\u001b[0m\u001b[1;32m   1181\u001b[0m         \u001b[0;32melse\u001b[0m\u001b[0;34m:\u001b[0m\u001b[0;34m\u001b[0m\u001b[0;34m\u001b[0m\u001b[0m\n\u001b[1;32m   1182\u001b[0m             \u001b[0;32mif\u001b[0m \u001b[0mengine\u001b[0m \u001b[0;34m==\u001b[0m \u001b[0;34m\"python\"\u001b[0m\u001b[0;34m:\u001b[0m\u001b[0;34m\u001b[0m\u001b[0;34m\u001b[0m\u001b[0m\n",
            "\u001b[0;32m/usr/local/lib/python3.7/dist-packages/pandas/io/parsers.py\u001b[0m in \u001b[0;36m__init__\u001b[0;34m(self, src, **kwds)\u001b[0m\n\u001b[1;32m   2008\u001b[0m         \u001b[0mkwds\u001b[0m\u001b[0;34m[\u001b[0m\u001b[0;34m\"usecols\"\u001b[0m\u001b[0;34m]\u001b[0m \u001b[0;34m=\u001b[0m \u001b[0mself\u001b[0m\u001b[0;34m.\u001b[0m\u001b[0musecols\u001b[0m\u001b[0;34m\u001b[0m\u001b[0;34m\u001b[0m\u001b[0m\n\u001b[1;32m   2009\u001b[0m \u001b[0;34m\u001b[0m\u001b[0m\n\u001b[0;32m-> 2010\u001b[0;31m         \u001b[0mself\u001b[0m\u001b[0;34m.\u001b[0m\u001b[0m_reader\u001b[0m \u001b[0;34m=\u001b[0m \u001b[0mparsers\u001b[0m\u001b[0;34m.\u001b[0m\u001b[0mTextReader\u001b[0m\u001b[0;34m(\u001b[0m\u001b[0msrc\u001b[0m\u001b[0;34m,\u001b[0m \u001b[0;34m**\u001b[0m\u001b[0mkwds\u001b[0m\u001b[0;34m)\u001b[0m\u001b[0;34m\u001b[0m\u001b[0;34m\u001b[0m\u001b[0m\n\u001b[0m\u001b[1;32m   2011\u001b[0m         \u001b[0mself\u001b[0m\u001b[0;34m.\u001b[0m\u001b[0munnamed_cols\u001b[0m \u001b[0;34m=\u001b[0m \u001b[0mself\u001b[0m\u001b[0;34m.\u001b[0m\u001b[0m_reader\u001b[0m\u001b[0;34m.\u001b[0m\u001b[0munnamed_cols\u001b[0m\u001b[0;34m\u001b[0m\u001b[0;34m\u001b[0m\u001b[0m\n\u001b[1;32m   2012\u001b[0m \u001b[0;34m\u001b[0m\u001b[0m\n",
            "\u001b[0;32mpandas/_libs/parsers.pyx\u001b[0m in \u001b[0;36mpandas._libs.parsers.TextReader.__cinit__\u001b[0;34m()\u001b[0m\n",
            "\u001b[0;32mpandas/_libs/parsers.pyx\u001b[0m in \u001b[0;36mpandas._libs.parsers.TextReader._setup_parser_source\u001b[0;34m()\u001b[0m\n",
            "\u001b[0;31mFileNotFoundError\u001b[0m: [Errno 2] No such file or directory: '/content/data/porto/train.csv'"
          ]
        }
      ]
    },
    {
      "cell_type": "code",
      "metadata": {
        "id": "hjC5Q0Z4t1NY"
      },
      "source": [
        "insurance_data.head()"
      ],
      "execution_count": null,
      "outputs": []
    },
    {
      "cell_type": "markdown",
      "metadata": {
        "id": "KoNjiBC8t1NY"
      },
      "source": [
        "Let's skip EDA for now. We'll use SGDClassifier and build a simple baseline: https://scikit-learn.org/stable/modules/generated/sklearn.linear_model.SGDClassifier.html.\n",
        "Note that loss='log' gives logistic regression."
      ]
    },
    {
      "cell_type": "code",
      "metadata": {
        "id": "JkiWE9pSt1NY"
      },
      "source": [
        "y = insurance_data['target']\n",
        "X = insurance_data.drop(columns=['target'])"
      ],
      "execution_count": null,
      "outputs": []
    },
    {
      "cell_type": "code",
      "metadata": {
        "id": "0rnBYnNTt1NY"
      },
      "source": [
        "numeric_features = [column for column in X if not (column.endswith(\"cat\") or column.endswith(\"bin\"))]\n",
        "numeric_transformer = Pipeline(steps=[('scaler', StandardScaler())])\n",
        "\n",
        "categorical_features = [column for column in X if (column.endswith(\"cat\") or column.endswith(\"bin\"))]\n",
        "categorical_transformer = Pipeline(steps=[('encoder', OneHotEncoder(handle_unknown='ignore'))])\n",
        "\n",
        "preprocessor = ColumnTransformer(\n",
        "    transformers=[\n",
        "        ('num', numeric_transformer, numeric_features),\n",
        "        ('cat', categorical_transformer, categorical_features)])\n",
        "\n",
        "pipeline = Pipeline(steps=[('preprocessor', preprocessor),\n",
        "                           ('classifier', SGDClassifier(loss='log', alpha=0.001, n_jobs=-1, random_state=14))])"
      ],
      "execution_count": null,
      "outputs": []
    },
    {
      "cell_type": "code",
      "metadata": {
        "id": "rj1-j3cut1NZ"
      },
      "source": [
        "X_train, X_valid, y_train, y_valid = train_test_split(X, y, test_size=0.3, random_state=42)"
      ],
      "execution_count": null,
      "outputs": []
    },
    {
      "cell_type": "code",
      "metadata": {
        "id": "heLzGPhxt1NZ"
      },
      "source": [
        "clf = pipeline.fit(X_train, y_train)"
      ],
      "execution_count": null,
      "outputs": []
    },
    {
      "cell_type": "markdown",
      "metadata": {
        "id": "VAcP3eRVt1NZ"
      },
      "source": [
        "We'll calculate the model accuracy:"
      ]
    },
    {
      "cell_type": "code",
      "metadata": {
        "id": "M9A2goBot1NZ"
      },
      "source": [
        "accuracy_score(y_true=y_valid, y_pred=clf.predict(X_valid))"
      ],
      "execution_count": null,
      "outputs": []
    },
    {
      "cell_type": "markdown",
      "metadata": {
        "id": "l_S4gI4At1NZ"
      },
      "source": [
        "Wow! Our model gets ~0.963 accuracy! But is it really good?...\n",
        "\n",
        "Let's plot the confusion matrix and analyze the errors."
      ]
    },
    {
      "cell_type": "code",
      "metadata": {
        "id": "cXW8vMRlt1Na"
      },
      "source": [
        "disp = plot_confusion_matrix(clf, X_valid, y_valid,\n",
        "                             cmap=plt.cm.Blues,\n",
        "                             normalize=None)"
      ],
      "execution_count": null,
      "outputs": []
    },
    {
      "cell_type": "markdown",
      "metadata": {
        "id": "NlNHEtlut1Na"
      },
      "source": [
        "Well, it turns out that our model is completely useless. Let's calculate some basic statistics:"
      ]
    },
    {
      "cell_type": "code",
      "metadata": {
        "scrolled": true,
        "id": "uDr-Axhqt1Na"
      },
      "source": [
        "insurance_data.describe()"
      ],
      "execution_count": null,
      "outputs": []
    },
    {
      "cell_type": "markdown",
      "metadata": {
        "id": "ALeKcNp1t1Na"
      },
      "source": [
        "As you see, there are less than 4% of positive examples, so we have to deal with a highly imbalanced dataset."
      ]
    },
    {
      "cell_type": "code",
      "metadata": {
        "id": "2cyVVQEWt1Na"
      },
      "source": [
        "sns.countplot(x='target', data=insurance_data)\n",
        "plt.show()"
      ],
      "execution_count": null,
      "outputs": []
    },
    {
      "cell_type": "markdown",
      "metadata": {
        "id": "iuFjMVlLt1Nb"
      },
      "source": [
        "Accuracy is not informative here and the Normalized Gini Coefficient will be used instead: https://www.kaggle.com/c/porto-seguro-safe-driver-prediction/overview/evaluation."
      ]
    },
    {
      "cell_type": "code",
      "metadata": {
        "id": "QAgw9oUdt1Nb"
      },
      "source": [
        "# Code for calculating Normalized gini coefficient\n",
        "# https://www.kaggle.com/c/ClaimPredictionChallenge/discussion/703\n",
        "def gini(actual, pred, cmpcol = 0, sortcol = 1):  \n",
        "    assert(len(actual) == len(pred))  \n",
        "    epsilon = 1e-7\n",
        "    values = np.asarray(np.c_[actual, pred, np.arange(len(actual))], dtype=np.float)  \n",
        "    values = values[np.lexsort((values[:, 2], -1 * values[:, 1]))]  \n",
        "    total = values[:, 0].sum() \n",
        "    gini_sum = (values[:, 0].cumsum().sum() + epsilon) / (total + epsilon)  \n",
        "  \n",
        "    gini_sum -= (len(actual) + 1) / 2  \n",
        "    return gini_sum / len(actual)  \n",
        "  \n",
        "def gini_normalized(a, p):  \n",
        "    '''Function to calculate the normalized gini coefficient'''\n",
        "    return gini(a, p) / gini(a, a)"
      ],
      "execution_count": null,
      "outputs": []
    },
    {
      "cell_type": "markdown",
      "metadata": {
        "id": "EUzGqlh6t1Nb"
      },
      "source": [
        "**(1.5 points)** Prove that the **Normalized Gini Coefficient** is equivalent to **2 x AUC - 1** :"
      ]
    },
    {
      "cell_type": "markdown",
      "metadata": {
        "id": "MYHSNxZQt1Nb"
      },
      "source": [
        "< your proof >"
      ]
    },
    {
      "cell_type": "markdown",
      "metadata": {
        "id": "wqVO7vSVt1Nb"
      },
      "source": [
        "**(0.5 points)** By the way, what other metrics could you suggest for this problem?"
      ]
    },
    {
      "cell_type": "markdown",
      "metadata": {
        "id": "-gSGtkUut1Nb"
      },
      "source": [
        "< your thoughts >"
      ]
    },
    {
      "cell_type": "markdown",
      "metadata": {
        "id": "3T0Fuhfqt1Nc"
      },
      "source": [
        "Let's calculate the Normalized Gini Coefficient:"
      ]
    },
    {
      "cell_type": "code",
      "metadata": {
        "id": "F-UhTLc0t1Nc"
      },
      "source": [
        "y_pred = clf.predict_proba(X_valid)[:, 1]"
      ],
      "execution_count": null,
      "outputs": []
    },
    {
      "cell_type": "code",
      "metadata": {
        "id": "k8G5Kl7Mt1Nc"
      },
      "source": [
        "gini_normalized(y_valid, y_pred)"
      ],
      "execution_count": null,
      "outputs": []
    },
    {
      "cell_type": "markdown",
      "metadata": {
        "id": "YKSqTM8Gt1Nc"
      },
      "source": [
        "**(0.5 points + Y bonus points)** Try different approaches: oversampling / undersampling, careful feature analysis and feature engineering, etc., to get a reasonable pipeline and improve the model quality. Use cross-validation for model evaluation.\n",
        "\n",
        "Select the best model, load the test set and make the predictions. Submit them to kaggle.\n",
        "Y bonus points will be calculated as $\\frac{round(200 * \\max(score - 0.253, 0))}{2}$, where *score* is your kaggle leaderboard score.\n",
        "\n",
        "Note: do not use any classification models which have not been covered in the lessons yet."
      ]
    },
    {
      "cell_type": "code",
      "metadata": {
        "id": "nyvw4T_ut1Nc"
      },
      "source": [
        "## your code"
      ],
      "execution_count": null,
      "outputs": []
    }
  ]
}